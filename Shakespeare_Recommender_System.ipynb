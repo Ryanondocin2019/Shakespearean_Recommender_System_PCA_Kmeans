{
  "nbformat": 4,
  "nbformat_minor": 0,
  "metadata": {
    "colab": {
      "name": "Shakespeare_Recommender_System.ipynb",
      "provenance": [],
      "collapsed_sections": []
    },
    "kernelspec": {
      "display_name": "Python 3",
      "name": "python3"
    }
  },
  "cells": [
    {
      "cell_type": "markdown",
      "metadata": {
        "id": "8uYE_aKFvp1N"
      },
      "source": [
        "#Creating a Shakespearean Recommender System using PCA and Kmeans:\n",
        "Synopsis:\n",
        "William Shakespeare is considered one of the greatest playwrights in the English language. He is attributed with 38 plays, 154 sonnets, and other works. Even 400 years later, his writings are still be studied in most high schools and colleges in the US and elsewhere. Shakespeare’s complete works are available online at http://shakespeare.mit.edu/.  We will be using a data set which has Shakespeare character quotes.  A lot of people are fascinated by the characters in the Shakespeare plays.  The first first part of the assignment is to create a Shakespeare character recommender system which is capable of recommending new characters which are similar to a speicific character of interest.  We will also explore using PCA inference to find important words in character quotes.  In the second part of the assignment we will use K-Means clustering to try and find one or more character insights.\n",
        "\n"
      ]
    },
    {
      "cell_type": "markdown",
      "metadata": {
        "id": "91Et1X5KwBuE"
      },
      "source": [
        "The following cell reads the data files needed for this homework from github and stores it on your local colab instance.\n"
      ]
    },
    {
      "cell_type": "code",
      "metadata": {
        "id": "8NFmfL6uv56m",
        "colab": {
          "base_uri": "https://localhost:8080/"
        },
        "outputId": "d15263c9-4875-4167-9054-2057ba6b02d9"
      },
      "source": [
        "%%bash\n",
        "# Do not change or modify this file\n",
        "# Need to install pyspark\n",
        "# if pyspark is already installed, will print a message indicating pyspark already isntalled\n",
        "pip install pyspark\n",
        "\n",
        "# Download the data files from github\n",
        "# If the data file does not exist in the colab environment\n",
        "if [[ ! -f ./quotes_by_char.csv ]]; then \n",
        "   # download the data file from github and save it in this colab environment instance\n",
        "   wget https://raw.githubusercontent.com/wewilli1/ist718_data/master/quotes_by_char.csv  \n",
        "fi"
      ],
      "execution_count": 1,
      "outputs": [
        {
          "output_type": "stream",
          "text": [
            "Collecting pyspark\n",
            "  Downloading https://files.pythonhosted.org/packages/f0/26/198fc8c0b98580f617cb03cb298c6056587b8f0447e20fa40c5b634ced77/pyspark-3.0.1.tar.gz (204.2MB)\n",
            "Collecting py4j==0.10.9\n",
            "  Downloading https://files.pythonhosted.org/packages/9e/b6/6a4fb90cd235dc8e265a6a2067f2a2c99f0d91787f06aca4bcf7c23f3f80/py4j-0.10.9-py2.py3-none-any.whl (198kB)\n",
            "Building wheels for collected packages: pyspark\n",
            "  Building wheel for pyspark (setup.py): started\n",
            "  Building wheel for pyspark (setup.py): finished with status 'done'\n",
            "  Created wheel for pyspark: filename=pyspark-3.0.1-py2.py3-none-any.whl size=204612243 sha256=975ab19344faa0210b6cf487374ab26bf9d736e44654fbd9b4e64a93d9199de5\n",
            "  Stored in directory: /root/.cache/pip/wheels/5e/bd/07/031766ca628adec8435bb40f0bd83bb676ce65ff4007f8e73f\n",
            "Successfully built pyspark\n",
            "Installing collected packages: py4j, pyspark\n",
            "Successfully installed py4j-0.10.9 pyspark-3.0.1\n"
          ],
          "name": "stdout"
        },
        {
          "output_type": "stream",
          "text": [
            "--2020-12-09 16:28:08--  https://raw.githubusercontent.com/wewilli1/ist718_data/master/quotes_by_char.csv\n",
            "Resolving raw.githubusercontent.com (raw.githubusercontent.com)... 151.101.0.133, 151.101.64.133, 151.101.128.133, ...\n",
            "Connecting to raw.githubusercontent.com (raw.githubusercontent.com)|151.101.0.133|:443... connected.\n",
            "HTTP request sent, awaiting response... 200 OK\n",
            "Length: 4352265 (4.2M) [text/plain]\n",
            "Saving to: ‘quotes_by_char.csv’\n",
            "\n",
            "     0K .......... .......... .......... .......... ..........  1% 6.53M 1s\n",
            "    50K .......... .......... .......... .......... ..........  2% 19.7M 0s\n",
            "   100K .......... .......... .......... .......... ..........  3% 7.00M 0s\n",
            "   150K .......... .......... .......... .......... ..........  4% 23.7M 0s\n",
            "   200K .......... .......... .......... .......... ..........  5% 13.3M 0s\n",
            "   250K .......... .......... .......... .......... ..........  7% 40.0M 0s\n",
            "   300K .......... .......... .......... .......... ..........  8% 38.4M 0s\n",
            "   350K .......... .......... .......... .......... ..........  9% 56.1M 0s\n",
            "   400K .......... .......... .......... .......... .......... 10% 49.6M 0s\n",
            "   450K .......... .......... .......... .......... .......... 11% 10.4M 0s\n",
            "   500K .......... .......... .......... .......... .......... 12% 47.0M 0s\n",
            "   550K .......... .......... .......... .......... .......... 14% 48.8M 0s\n",
            "   600K .......... .......... .......... .......... .......... 15% 25.7M 0s\n",
            "   650K .......... .......... .......... .......... .......... 16% 35.5M 0s\n",
            "   700K .......... .......... .......... .......... .......... 17% 23.1M 0s\n",
            "   750K .......... .......... .......... .......... .......... 18% 43.3M 0s\n",
            "   800K .......... .......... .......... .......... .......... 19% 22.7M 0s\n",
            "   850K .......... .......... .......... .......... .......... 21% 34.0M 0s\n",
            "   900K .......... .......... .......... .......... .......... 22% 52.6M 0s\n",
            "   950K .......... .......... .......... .......... .......... 23% 18.0M 0s\n",
            "  1000K .......... .......... .......... .......... .......... 24% 83.6M 0s\n",
            "  1050K .......... .......... .......... .......... .......... 25% 26.6M 0s\n",
            "  1100K .......... .......... .......... .......... .......... 27% 63.6M 0s\n",
            "  1150K .......... .......... .......... .......... .......... 28% 33.8M 0s\n",
            "  1200K .......... .......... .......... .......... .......... 29% 15.1M 0s\n",
            "  1250K .......... .......... .......... .......... .......... 30% 52.3M 0s\n",
            "  1300K .......... .......... .......... .......... .......... 31% 48.7M 0s\n",
            "  1350K .......... .......... .......... .......... .......... 32% 24.8M 0s\n",
            "  1400K .......... .......... .......... .......... .......... 34%  190M 0s\n",
            "  1450K .......... .......... .......... .......... .......... 35% 19.5M 0s\n",
            "  1500K .......... .......... .......... .......... .......... 36% 40.2M 0s\n",
            "  1550K .......... .......... .......... .......... .......... 37% 21.9M 0s\n",
            "  1600K .......... .......... .......... .......... .......... 38%  150M 0s\n",
            "  1650K .......... .......... .......... .......... .......... 39% 37.2M 0s\n",
            "  1700K .......... .......... .......... .......... .......... 41% 21.2M 0s\n",
            "  1750K .......... .......... .......... .......... .......... 42% 52.1M 0s\n",
            "  1800K .......... .......... .......... .......... .......... 43% 43.4M 0s\n",
            "  1850K .......... .......... .......... .......... .......... 44% 31.3M 0s\n",
            "  1900K .......... .......... .......... .......... .......... 45% 56.2M 0s\n",
            "  1950K .......... .......... .......... .......... .......... 47% 38.0M 0s\n",
            "  2000K .......... .......... .......... .......... .......... 48% 17.9M 0s\n",
            "  2050K .......... .......... .......... .......... .......... 49%  123M 0s\n",
            "  2100K .......... .......... .......... .......... .......... 50% 83.4M 0s\n",
            "  2150K .......... .......... .......... .......... .......... 51% 14.2M 0s\n",
            "  2200K .......... .......... .......... .......... .......... 52%  128M 0s\n",
            "  2250K .......... .......... .......... .......... .......... 54%  158M 0s\n",
            "  2300K .......... .......... .......... .......... .......... 55% 28.9M 0s\n",
            "  2350K .......... .......... .......... .......... .......... 56% 31.3M 0s\n",
            "  2400K .......... .......... .......... .......... .......... 57% 64.7M 0s\n",
            "  2450K .......... .......... .......... .......... .......... 58% 16.2M 0s\n",
            "  2500K .......... .......... .......... .......... .......... 59% 56.9M 0s\n",
            "  2550K .......... .......... .......... .......... .......... 61% 94.1M 0s\n",
            "  2600K .......... .......... .......... .......... .......... 62% 46.0M 0s\n",
            "  2650K .......... .......... .......... .......... .......... 63% 36.3M 0s\n",
            "  2700K .......... .......... .......... .......... .......... 64% 61.8M 0s\n",
            "  2750K .......... .......... .......... .......... .......... 65% 45.1M 0s\n",
            "  2800K .......... .......... .......... .......... .......... 67% 19.8M 0s\n",
            "  2850K .......... .......... .......... .......... .......... 68% 66.8M 0s\n",
            "  2900K .......... .......... .......... .......... .......... 69% 62.7M 0s\n",
            "  2950K .......... .......... .......... .......... .......... 70% 26.3M 0s\n",
            "  3000K .......... .......... .......... .......... .......... 71%  114M 0s\n",
            "  3050K .......... .......... .......... .......... .......... 72% 43.6M 0s\n",
            "  3100K .......... .......... .......... .......... .......... 74%  107M 0s\n",
            "  3150K .......... .......... .......... .......... .......... 75% 16.4M 0s\n",
            "  3200K .......... .......... .......... .......... .......... 76% 67.3M 0s\n",
            "  3250K .......... .......... .......... .......... .......... 77% 44.5M 0s\n",
            "  3300K .......... .......... .......... .......... .......... 78%  182M 0s\n",
            "  3350K .......... .......... .......... .......... .......... 79% 63.5M 0s\n",
            "  3400K .......... .......... .......... .......... .......... 81% 30.0M 0s\n",
            "  3450K .......... .......... .......... .......... .......... 82% 39.4M 0s\n",
            "  3500K .......... .......... .......... .......... .......... 83% 22.9M 0s\n",
            "  3550K .......... .......... .......... .......... .......... 84%  185M 0s\n",
            "  3600K .......... .......... .......... .......... .......... 85%  188M 0s\n",
            "  3650K .......... .......... .......... .......... .......... 87% 30.0M 0s\n",
            "  3700K .......... .......... .......... .......... .......... 88%  107M 0s\n",
            "  3750K .......... .......... .......... .......... .......... 89%  153M 0s\n",
            "  3800K .......... .......... .......... .......... .......... 90% 19.8M 0s\n",
            "  3850K .......... .......... .......... .......... .......... 91% 31.2M 0s\n",
            "  3900K .......... .......... .......... .......... .......... 92% 64.8M 0s\n",
            "  3950K .......... .......... .......... .......... .......... 94% 58.7M 0s\n",
            "  4000K .......... .......... .......... .......... .......... 95% 46.5M 0s\n",
            "  4050K .......... .......... .......... .......... .......... 96%  135M 0s\n",
            "  4100K .......... .......... .......... .......... .......... 97% 62.8M 0s\n",
            "  4150K .......... .......... .......... .......... .......... 98% 24.4M 0s\n",
            "  4200K .......... .......... .......... .......... .......... 99%  179M 0s\n",
            "  4250K                                                       100%  494G=0.1s\n",
            "\n",
            "2020-12-09 16:28:09 (32.6 MB/s) - ‘quotes_by_char.csv’ saved [4352265/4352265]\n",
            "\n"
          ],
          "name": "stderr"
        }
      ]
    },
    {
      "cell_type": "markdown",
      "metadata": {
        "id": "MfpcQSe4KxiR"
      },
      "source": [
        "# Part 1: Shakespeare Recommender System"
      ]
    },
    {
      "cell_type": "markdown",
      "metadata": {
        "id": "vtMyxEOqPY6d"
      },
      "source": [
        "# Reading in and cleaning up our Dataframe \n",
        "Read the quotes_by_char.csv file into a spark dataframe named `quotes_by_char_df`.  Drop the `Unnamed` column.  Transform the character column such that all character names are lower case."
      ]
    },
    {
      "cell_type": "code",
      "metadata": {
        "id": "_O6F5g4-rVB5"
      },
      "source": [
        "# import statements\n",
        "from pyspark.sql import functions as F\n",
        "from pyspark.sql import SparkSession\n",
        "from pyspark.sql import SQLContext\n",
        "#spark = SparkSession.builder.getOrCreate()\n",
        "#here, we modify the configuration of our spark context by changing the maxresult size, off heap, driver and executor memory to 12 gigabytes\n",
        "#almost all problems within this notebook were solved by modifying these configuration settings\n",
        "spark = SparkSession\\\n",
        "  .builder\\\n",
        "  .master(\"local[*]\")\\\n",
        "  .config(\"spark.memory.fraction\", 0.8) \\\n",
        "  .config(\"spark.executor.memory\", \"12g\") \\\n",
        "  .config(\"spark.driver.memory\", \"12g\")\\\n",
        "  .config(\"spark.memory.offHeap.enabled\",'true')\\\n",
        "  .config(\"spark.memory.offHeap.size\",\"12g\")\\\n",
        "  .config(\"spark.driver.maxResultSize\", \"12g\")\\\n",
        "  .getOrCreate()\n",
        "sc = spark.sparkContext\n",
        "sqlContext = SQLContext(sc)"
      ],
      "execution_count": 2,
      "outputs": []
    },
    {
      "cell_type": "code",
      "metadata": {
        "id": "P7LVU-4ZqhIX"
      },
      "source": [
        "from pyspark.ml import feature\n",
        "from pyspark.ml import clustering\n",
        "from pyspark.ml import Pipeline\n",
        "from pyspark.sql import functions as fn\n",
        "import numpy as np\n",
        "from pyspark.sql import SparkSession\n",
        "from pyspark.ml import feature, regression, evaluation, Pipeline\n",
        "from pyspark.sql import functions as fn, Row\n",
        "import matplotlib.pyplot as plt\n",
        "import pandas as pd\n",
        "#reading in our Shakespearean character quotations file as a CSV\n",
        "quotes_by_char_df = spark.read.format(\"csv\").option(\"header\", \"true\").load(\"quotes_by_char.csv\")\n",
        "from pyspark.sql.functions import lower, col\n",
        "#we only need to deal with the following two columns for the sake of this homework\n",
        "quotes_by_char_df = quotes_by_char_df.select(['character','all_quotes'])\n",
        "#lowercasing out data and removing certain special characters was useful in ensuring that our data was uniformally formatted, making analysis much simpler\n",
        "quotes_by_char_df  = quotes_by_char_df.select('all_quotes',lower(col('character'))).alias('lower_character')\n",
        "quotes_by_char_df = quotes_by_char_df.withColumnRenamed('lower(character)', 'character')\n",
        "quotes_by_char_df = quotes_by_char_df.replace('& c','courtezan')\n",
        "quotes_by_char_df = quotes_by_char_df.sort('character')"
      ],
      "execution_count": 3,
      "outputs": []
    },
    {
      "cell_type": "code",
      "metadata": {
        "id": "F56XM6z59zxs",
        "colab": {
          "base_uri": "https://localhost:8080/",
          "height": 204
        },
        "outputId": "b74d4b58-5326-40c3-8d79-23b31bd539e1"
      },
      "source": [
        "display(quotes_by_char_df.toPandas().head())"
      ],
      "execution_count": 4,
      "outputs": [
        {
          "output_type": "display_data",
          "data": {
            "text/html": [
              "<div>\n",
              "<style scoped>\n",
              "    .dataframe tbody tr th:only-of-type {\n",
              "        vertical-align: middle;\n",
              "    }\n",
              "\n",
              "    .dataframe tbody tr th {\n",
              "        vertical-align: top;\n",
              "    }\n",
              "\n",
              "    .dataframe thead th {\n",
              "        text-align: right;\n",
              "    }\n",
              "</style>\n",
              "<table border=\"1\" class=\"dataframe\">\n",
              "  <thead>\n",
              "    <tr style=\"text-align: right;\">\n",
              "      <th></th>\n",
              "      <th>all_quotes</th>\n",
              "      <th>character</th>\n",
              "    </tr>\n",
              "  </thead>\n",
              "  <tbody>\n",
              "    <tr>\n",
              "      <th>0</th>\n",
              "      <td>Sir, it was I.</td>\n",
              "      <td>a lord</td>\n",
              "    </tr>\n",
              "    <tr>\n",
              "      <th>1</th>\n",
              "      <td>This man has marr'd his fortune. You do the no...</td>\n",
              "      <td>a patrician</td>\n",
              "    </tr>\n",
              "    <tr>\n",
              "      <th>2</th>\n",
              "      <td>So please your lordship to accept our duty. I ...</td>\n",
              "      <td>a player</td>\n",
              "    </tr>\n",
              "    <tr>\n",
              "      <th>3</th>\n",
              "      <td>Now climbeth Tamora Olympus' top, Safe out of ...</td>\n",
              "      <td>aaron</td>\n",
              "    </tr>\n",
              "    <tr>\n",
              "      <th>4</th>\n",
              "      <td>A woeful pageant have we here beheld. My lord,...</td>\n",
              "      <td>abbot</td>\n",
              "    </tr>\n",
              "  </tbody>\n",
              "</table>\n",
              "</div>"
            ],
            "text/plain": [
              "                                          all_quotes    character\n",
              "0                                    Sir, it was I.        a lord\n",
              "1  This man has marr'd his fortune. You do the no...  a patrician\n",
              "2  So please your lordship to accept our duty. I ...     a player\n",
              "3  Now climbeth Tamora Olympus' top, Safe out of ...        aaron\n",
              "4  A woeful pageant have we here beheld. My lord,...        abbot"
            ]
          },
          "metadata": {
            "tags": []
          }
        }
      ]
    },
    {
      "cell_type": "markdown",
      "metadata": {
        "id": "HlIwZWwePs8X"
      },
      "source": [
        "# Vectorizing textual data and creating a ML pipeline for our PCA object\n",
        "Create a spark pipeline named `pipe_pca_1` which performs Principal Component Analysis (PCA) on `chars_df`.  Use `pipe_pca_1` to create a new dataframe named `chars_pca_df`.  Analyze the resulting number of TF-IDF data rows and columns in your data.  Add code to the specially marked code cell below which prints the number of rows and cols in your TF-IDF data.  Using the analysis for the number of rows and cols in the data, explicitly set the K parameter in the spark PCA object equal to the maximum number of principal components.  Your overall solution should use sound data science techniques as outlined in lecture for making TF-IDF and PCA score calculations. We will be looking closely at how these calculations are made during the grading process."
      ]
    },
    {
      "cell_type": "code",
      "metadata": {
        "id": "9DXERIotZz94"
      },
      "source": [
        "# your code here\n",
        "import nltk\n",
        "from pyspark.ml.feature import Tokenizer\n",
        "import requests\n",
        "from pyspark.ml.feature import StopWordsRemover\n",
        "from pyspark.ml.feature import RegexTokenizer\n",
        "from pyspark.ml.feature import CountVectorizer, IDF\n",
        "from pyspark.ml.feature import PCA \n",
        "from pyspark.ml import Pipeline\n",
        "#tokenizing the quotations column and applying a regex pattern to only isolate words that we want for PCA and kmeans\n",
        "tokenizer = RegexTokenizer().setInputCol('all_quotes').setOutputCol('words').setGaps(False).setPattern(\"\\\\p{L}+\")\n",
        "#pulling our stopwords via a url request. I have also experimented with removing elizabethan stopwords \n",
        "#but didn't yield better results which led me to stick with the first option\n",
        "stop_words = requests.get('http://ir.dcs.gla.ac.uk/resources/linguistic_utils/stop_words').text.split()\n",
        "#stop_words = requests.get('https://raw.githubusercontent.com/BryanBumgardner/gutenburg_nlp/master/stopwords_elizabethan').text.split()"
      ],
      "execution_count": 5,
      "outputs": []
    },
    {
      "cell_type": "code",
      "metadata": {
        "id": "J_TuW4T4aATp"
      },
      "source": [
        "# TF-IDF\n",
        "# We use TF-IDF opposed toBag Of Words because in BOW, each word has a similar significance considering its weight \n",
        "# amongst all documents. To reckon with this, the TF-IDF approach in classification tends to make sure that more weight should be \n",
        "# given to words or terms which are more frequent throughout the document than others(where the frequency of ​these​ words or the term \n",
        "# is comparatively lower). The term frequency can thus be calculated as:  Term Frequency (TF)  T=Total number of words or terms in the documentNumber of times the word \n",
        "# or the term appears in the document  Moving further, the Inverse Document Frequency or IDF for a particular word will be the total number of documents,\n",
        "#  divided by only the documents in which that particular word is found.  To reduce the effect of this division, we calculate the logarithm of its ratio.\n",
        "# The Inverse Document Frequency or IDF can thus be calculated as: nverse Document Frequency (IDF) ㏒ ()I= Total number of documentsNumber of documents \n",
        "# which have that word  We can further conclude here that TF-IDF is a product of two terms: TF and IDF. Following this, our vectorized tweets were ready \n",
        "# to have PCA applied.   "
      ],
      "execution_count": 6,
      "outputs": []
    },
    {
      "cell_type": "code",
      "metadata": {
        "id": "5qqXvM1FwKSg"
      },
      "source": [
        "#Filtering out stop words from our tokenized data\n",
        "sw_filter = StopWordsRemover().setStopWords(stop_words).setCaseSensitive(False).setInputCol(\"words\").setOutputCol(\"filtered\")\n",
        "#applying a count vectorizer with a minTF of 1 and minDF of 5. These parameters were decided after extensively reviewing documentation and discussion available on piazza\n",
        "cv = CountVectorizer(minTF=1., minDF=5.).setInputCol(\"filtered\").setOutputCol(\"tf\")\n",
        "#running idf on our vectorized tf column\n",
        "idf = IDF().setInputCol('tf').setOutputCol('tfidf')\n",
        "#applying PCA with k = 500. This value was tweaked constantly and took the least time to execute while still explaining a large portion of the variance within our data\n",
        "pca = PCA(k=500, inputCol='tfidf', outputCol='scores')\n",
        "#passing each of the aforementioned steps into the pipeline and fit transforming on our quotes_by_char_df\n",
        "pipe_pca_1 = Pipeline(stages=[tokenizer, sw_filter, cv, idf, pca]).fit(quotes_by_char_df)\n",
        "chars_pca_df = pipe_pca_1.transform(quotes_by_char_df)"
      ],
      "execution_count": null,
      "outputs": []
    },
    {
      "cell_type": "code",
      "metadata": {
        "id": "R7fJlrsk32sS",
        "colab": {
          "base_uri": "https://localhost:8080/"
        },
        "outputId": "ce9bf8ef-1ee9-4c9b-caff-57998e456468"
      },
      "source": [
        "# your code here to print the number of rows and cols in the TF-IDF data in chars_pca_df here\n",
        "#printing the rows and columns from our TF-IDF data\n",
        "rowss = chars_pca_df.count()\n",
        "colss = np.array(chars_pca_df.select('tfidf').rdd.map(lambda x: x['tfidf']).collect())\n",
        "print(\"Number of rows in TF-IDF Data:\", rowss, \"\\nNumber of columns in TF-IDF Data:\", colss.shape[1])\n",
        "# The \"scores\" we obtain from this are created by projecting the data observations onto the loading vectors we obtained in question 3. \n",
        "# Each projection is created by multiplying the observations by the loading vectors which will effective project each observation in the direction\n",
        "# that the loading vector is pointing."
      ],
      "execution_count": null,
      "outputs": [
        {
          "output_type": "stream",
          "text": [
            "Number of rows in TF-IDF Data: 966 \n",
            "Number of columns in TF-IDF Data: 7420\n"
          ],
          "name": "stdout"
        }
      ]
    },
    {
      "cell_type": "code",
      "metadata": {
        "id": "yr9VYXEzSabE"
      },
      "source": [
        "display(chars_pca_df.toPandas().head())"
      ],
      "execution_count": null,
      "outputs": []
    },
    {
      "cell_type": "markdown",
      "metadata": {
        "id": "Dqk2_l1rU1yb"
      },
      "source": [
        "# Analyzing PCA data \n",
        "Analyze the PCA data in `chars_pca_df`.  Create scree and cumulative variance explained plots.  Assuming you were trying to reduce the number of columns to train a machine learning model, how many princiapal components would you pick such that the number of data columns is reduced from the original data set but you still capture a reasonable amount of variance in the data.  Describe in words the number of principal components you would choose and how you arrived at that number of components."
      ]
    },
    {
      "cell_type": "code",
      "metadata": {
        "id": "yfvjYaXKbV1V",
        "colab": {
          "base_uri": "https://localhost:8080/"
        },
        "outputId": "78e008c6-9663-4824-886b-96f3e6d4e41b"
      },
      "source": [
        "#First we obtain the loading vectors from the pca pipeline. In PCA, we are essentially splitting our\n",
        "#correlation matrix into scales and direction via eigen values and eigen vectors, respectively. These loadings are\n",
        "#then comparable by magnitude and covariance between variables. To reiterate, loadings can be thought of as \n",
        "#the covariances between our original attributes and the normalized or unit-scaled components.\n",
        "#Therefore, these value represent phi coefficients, that help us interpret principle components.\n",
        "#Phi coefficients are used to perform the linear combination of column vectors in our data.\n",
        "#Since loadings are the linear combination coefficents where normalized factors actually load the variable itself.\n",
        "#The column vectors form the linear combinations that create principal components where each one will capture a degree \n",
        "#of variance within our data. PC1 always captures the highest degree of variance, while PC2 will capture the next highest. \n",
        "#To visualize this, we put our vectors into a dimensional space where p is the number of attributes in the dataset. \n",
        "#Therefore each loading vector will denote a specific direction associated with our PC's.\n",
        "#Now that we have a bit of background, we will proceed.\n",
        "loadings = pipe_pca_1.stages[-1].pc.toArray()\n",
        "#printing the shape of our loading vectors\n",
        "print(\"loadings.shape\", loadings.shape)\n",
        "# prints the first column of the loading matrix - the first principal component\n",
        "print(loadings[:,0])"
      ],
      "execution_count": null,
      "outputs": [
        {
          "output_type": "stream",
          "text": [
            "loadings.shape (7420, 500)\n",
            "[-1.46348380e-01 -2.61477494e-01 -1.45835586e-01 ... -1.32819335e-03\n",
            " -5.13164835e-04 -1.26086049e-04]\n"
          ],
          "name": "stdout"
        }
      ]
    },
    {
      "cell_type": "code",
      "metadata": {
        "id": "aa_rKlEYbmNC"
      },
      "source": [
        "pipe_pca_1.stages[-1].explainedVariance"
      ],
      "execution_count": null,
      "outputs": []
    },
    {
      "cell_type": "code",
      "metadata": {
        "id": "MwsP3fqybbeE",
        "colab": {
          "base_uri": "https://localhost:8080/"
        },
        "outputId": "35218e4e-c998-494c-881c-cbb81c57f05e"
      },
      "source": [
        "# Next we can sum the components within this vector to find the percentage of variance captured by each PC. \n",
        "#The first component captured ~ 15% of the total variance within quotes_by_char_df\n",
        "print('Proportion of Explained Variance associated with each PC', sum(pipe_pca_1.stages[-1].explainedVariance))"
      ],
      "execution_count": null,
      "outputs": [
        {
          "output_type": "stream",
          "text": [
            "Proportion of Explained Variance associated with each PC 0.9837250456052189\n"
          ],
          "name": "stdout"
        }
      ]
    },
    {
      "cell_type": "code",
      "metadata": {
        "id": "NRBmwOQZVpUD",
        "colab": {
          "base_uri": "https://localhost:8080/",
          "height": 312
        },
        "outputId": "3f5aac53-a6d3-4e69-a74a-ef095734db62"
      },
      "source": [
        "# your code here\n",
        "#Next, we create scree plots to analyze the Proportion of Explained Variance for our 500 principle components\n",
        "import numpy as np \n",
        "plt.figure()\n",
        "explained_var = pipe_pca_1.stages[-1].explainedVariance\n",
        "plt.plot(np.arange(1, len(explained_var)+1), explained_var)\n",
        "plt.title(\"Shakespeare Character Quotes Scree Plot\")\n",
        "plt.xlabel(\"Principal Component\")\n",
        "plt.ylabel(\"Proportion Variance Explained\")"
      ],
      "execution_count": null,
      "outputs": [
        {
          "output_type": "execute_result",
          "data": {
            "text/plain": [
              "Text(0, 0.5, 'Proportion Variance Explained')"
            ]
          },
          "metadata": {
            "tags": []
          },
          "execution_count": 13
        },
        {
          "output_type": "display_data",
          "data": {
            "image/png": "[encoded data removed]",
            "text/plain": [
              "<Figure size 432x288 with 1 Axes>"
            ]
          },
          "metadata": {
            "tags": [],
            "needs_background": "light"
          }
        }
      ]
    },
    {
      "cell_type": "code",
      "metadata": {
        "id": "Cb_XQ343bNFG",
        "colab": {
          "base_uri": "https://localhost:8080/",
          "height": 312
        },
        "outputId": "a413c7b4-72a9-4434-e3a5-14f0ddcb9f57"
      },
      "source": [
        "#This plot uses the cumulative sum of the explained variance for each of our principle components\n",
        "cum_sum = np.cumsum(explained_var)\n",
        "plt.figure()\n",
        "plt.plot(np.arange(1, len(explained_var)+1), cum_sum)\n",
        "plt.title(\"Shakespeare Character Quotes Cumulative Sum of Variance Explained\")\n",
        "plt.xlabel(\"Cumulative Components\")\n",
        "plt.ylabel(\"Cumulative Sum of Variance Explained\")"
      ],
      "execution_count": null,
      "outputs": [
        {
          "output_type": "execute_result",
          "data": {
            "text/plain": [
              "Text(0, 0.5, 'Cumulative Sum of Variance Explained')"
            ]
          },
          "metadata": {
            "tags": []
          },
          "execution_count": 14
        },
        {
          "output_type": "display_data",
          "data": {
            "image/png": "[encoded data removed]",
            "text/plain": [
              "<Figure size 432x288 with 1 Axes>"
            ]
          },
          "metadata": {
            "tags": [],
            "needs_background": "light"
          }
        }
      ]
    },
    {
      "cell_type": "markdown",
      "metadata": {
        "id": "b1ABRRMMVrTE"
      },
      "source": [
        "Your explanation here: \n",
        "First we obtain the loading vectors from the pca pipeline. In PCA, we are essentially splitting our\n",
        "correlation matrix into scales and direction via eigen values and eigen vectors, respectively. These loadings are\n",
        "then comparable by magnitude and covariance between variables. To reiterate, loadings can be thought of as \n",
        "the covariances between our original attributes and the normalized or unit-scaled components.\n",
        "Therefore, these value represent phi coefficients, that help us interpret principle components.\n",
        "Phi coefficients are used to perform the linear combination of column vectors in our data.\n",
        "Since loadings are the linear combination coefficents where normalized factors actually load the variable itself.\n",
        "The column vectors form the linear combinations that create principal components where each one will capture a degree \n",
        "of variance within our data. PC1 always captures the highest degree of variance, while PC2 will capture the next highest. \n",
        "To visualize this, we put our vectors into a dimensional space where p is the number of attributes in the dataset. \n",
        "Therefore each loading vector will denote a specific direction associated with our PC's.\n",
        "Following this we can sum the components within this vector to find the percentage of variance captured by each PC. The first component captured ~ 15% of the total variance within quotes_by_char_df.\n",
        "Next, we create scree plots to analyze the Proportion of Explained Variance for our 500 principle components. This plot uses the cumulative sum of the explained variance for each of our principle components\n",
        "\n"
      ]
    },
    {
      "cell_type": "markdown",
      "metadata": {
        "id": "qk1kbYHz-San"
      },
      "source": [
        "# Finding the most Similar Characters based on PCA\n",
        "In this question your will write code which makes recommendations on new characters to study based on a specific character that a Shakespeare fan likes.\n",
        "\n",
        "Create a function named get_nearest_chars that takes 2 arguments: char and num_nearest_chars. The char arg is a string which defines the character for which we are interested in finding similar characters. The num_nearest_chars arg is an integer that defines the total number of nearest characters which we want included in the return list. The get_nearest_chars function shall perform all of its internal operations in spark and return a python list containing a string corresponding to each of the nearest characters defined by num_nearest_chars. Compute the list of characterss which are closest to the char arg using L2 Euclidian distance. \n",
        "\n",
        "Hint: Start by creating a new pipe named pipe_pca_2 that is the same as pipe_pca_1 except set K equal to 2 when instantiating the PCA object. We are essentially fixing the number of PCA components to 2 so that we will limit the Euclidian distance to 2 dimensions for this problem. \n",
        "\n",
        "Your get_nearest_chars function should rigorously error check input data to verify that the user is not making illegal requests. We plan on trying your code against secret tests which verify your error checking to make the challenge more interesting. You are free to break the problem up into as many sub functions as you wish but you must implement get_nearest_chars as the top level entry point to your code."
      ]
    },
    {
      "cell_type": "code",
      "metadata": {
        "id": "uyn3w8CfVNvc"
      },
      "source": [
        "# To reiterate on PCA, this method finds new directions based on a covariance matrix of original variables. \n",
        "# Given that covariance values are sensitive to variable standardization which can assign equal weights to all variables, if \n",
        "# we don't standardize the variables before utilizing PCA, then we will get misleading directions in some cases.\n",
        "# However if all the variables are in same scale, it's not necessary to scale variables.\n",
        "# Since PCA reduces the dimensionality of our data based on variance we encounter a tradeoff between the two. \n",
        "# The algorithm is trying to maximize variance for a given dimensionality reduction. \n",
        "#So if the scale of a feature is changed from g to mg, the resulting variance of the attribute would now be 1000 \n",
        "#more than it was. The problem with this is that the attribute would now play a disproportionate role in deciding the first principal component given that the algorithm is trying to\n",
        "# maximize variance. \n",
        "#K-Means Clustering is an unsupervised learning algorithm that allows data to be naturally segregated solely based on our vectorized text. \n",
        "#The algorithm is distance-based and tries to simply minimize the SSE (intra or within-cluster variation) to produce coherent clusters.  \n",
        "#This should serve as an adequate precursor to the center and normalization stages in our second pca pipeline."
      ],
      "execution_count": null,
      "outputs": []
    },
    {
      "cell_type": "code",
      "metadata": {
        "id": "MxY-OVxC5cde"
      },
      "source": [
        "center = feature.StandardScaler(withMean=True, withStd=False, inputCol='tfidf', outputCol='centered_tfidf')\n",
        "#we use p=2 for the normalizer to specify that we want to use the euclidean distance\n",
        "norm = feature.Normalizer(inputCol=\"centered_tfidf\", outputCol=\"norm_tfidf\", p=2.0)\n",
        "#k was set to 5 in order to optimize time spent on running this cell. This value was iteratively updated after extensively \n",
        "#reviewing the discussion forum of piazza.\n",
        "kmeans = clustering.KMeans(k=5, featuresCol='norm_tfidf', predictionCol='kmeans_feat')\n",
        "pca = PCA(k=500, inputCol='centered_tfidf', outputCol='pca_scores')\n",
        "pipe_pca_2 = Pipeline(stages=[tokenizer, sw_filter, cv, idf, center, norm, kmeans, pca]).fit(quotes_by_char_df)"
      ],
      "execution_count": null,
      "outputs": []
    },
    {
      "cell_type": "code",
      "metadata": {
        "id": "U8Qs6zUEKozG"
      },
      "source": [
        "#we transform our original dataframe after passing it through the pipe_pca_2 pipeline \n",
        "df = pipe_pca_2.transform(quotes_by_char_df)"
      ],
      "execution_count": null,
      "outputs": []
    },
    {
      "cell_type": "code",
      "metadata": {
        "id": "zzDuHHiHPhLQ"
      },
      "source": [
        "#creating our function to find the l2 distance between a vector(character) and all other characters\n",
        "from pyspark.sql import types\n",
        "import numpy as np\n",
        "def findl2(c1, c2):    \n",
        "    return float(np.sqrt((c1 - c2).T.dot((c1 - c2))))\n",
        "#Following this we invoke a udf that will use the findl2 function created above \n",
        "#that will take two columns (vectors) as input and returns the euclidean distance that separates them. \n",
        "#We also must specify that we are taking float datatypes in this use case\n",
        "l2_dist_udf = fn.udf(findl2, types.FloatType())\n",
        "#this function will take a character, select their pca scores, and find whichever number of specified characters \n",
        "#are the closest to them in terms of l2 distance\n",
        "def get_nearest_chars(char, num_nearest_char):\n",
        "  dfq4 = df.\\\n",
        "  where(df.character == char).\\\n",
        "  select(fn.col('pca_scores').alias('new_scores')).\\\n",
        "  join(df).\\\n",
        "  withColumn('dist', l2_dist_udf('pca_scores', 'new_scores')).\\\n",
        "  select(\"character\", \"kmeans_feat\", \"dist\").\\\n",
        "  orderBy(fn.asc(\"dist\"))\n",
        "  return dfq4.show(num_nearest_char + 1)"
      ],
      "execution_count": null,
      "outputs": []
    },
    {
      "cell_type": "code",
      "metadata": {
        "id": "N7cqKpU9hiTA",
        "colab": {
          "base_uri": "https://localhost:8080/"
        },
        "outputId": "9654e49c-7891-46de-eedd-fda00ff057d5"
      },
      "source": [
        "print(get_nearest_chars('first watchman', 5)) "
      ],
      "execution_count": null,
      "outputs": [
        {
          "output_type": "stream",
          "text": [
            "+---------------+-----------+---------+\n",
            "|      character|kmeans_feat|     dist|\n",
            "+---------------+-----------+---------+\n",
            "| first watchman|          4|      0.0|\n",
            "|second watchman|          1|31.616182|\n",
            "| third watchman|          1|32.585102|\n",
            "|          nurse|          1|33.170227|\n",
            "|  second drawer|          1| 33.19214|\n",
            "|second musician|          1| 33.26626|\n",
            "+---------------+-----------+---------+\n",
            "only showing top 6 rows\n",
            "\n",
            "None\n"
          ],
          "name": "stdout"
        }
      ]
    },
    {
      "cell_type": "code",
      "metadata": {
        "id": "6Fw5i39WSna6",
        "colab": {
          "base_uri": "https://localhost:8080/"
        },
        "outputId": "fa42495b-9401-4916-a9de-1921db2c933d"
      },
      "source": [
        "# grading cell - do non modify\n",
        "print(get_nearest_chars('romeo', 5))\n",
        "print(get_nearest_chars('juliet', 5))"
      ],
      "execution_count": null,
      "outputs": [
        {
          "output_type": "stream",
          "text": [
            "+--------------+-----------+---------+\n",
            "|     character|kmeans_feat|     dist|\n",
            "+--------------+-----------+---------+\n",
            "|         romeo|          0|      0.0|\n",
            "|friar laurence|          0|  198.323|\n",
            "|  lady capulet|          0|201.68773|\n",
            "|      benvolio|          0|208.64694|\n",
            "|        prince|          4|211.03114|\n",
            "|       capulet|          0|211.54117|\n",
            "+--------------+-----------+---------+\n",
            "only showing top 6 rows\n",
            "\n",
            "None\n",
            "+--------------+-----------+---------+\n",
            "|     character|kmeans_feat|     dist|\n",
            "+--------------+-----------+---------+\n",
            "|        juliet|          0|      0.0|\n",
            "|friar laurence|          0|203.17017|\n",
            "|         nurse|          0|213.73653|\n",
            "|      benvolio|          0|214.87091|\n",
            "|  lady capulet|          0|235.13928|\n",
            "|      mercutio|          0|238.04196|\n",
            "+--------------+-----------+---------+\n",
            "only showing top 6 rows\n",
            "\n",
            "None\n"
          ],
          "name": "stdout"
        }
      ]
    },
    {
      "cell_type": "markdown",
      "metadata": {
        "id": "FXbidewSe9cm"
      },
      "source": [
        "##### Grading Feedback Cell"
      ]
    },
    {
      "cell_type": "markdown",
      "metadata": {
        "id": "4ONVAI_ke_rT"
      },
      "source": [
        "# Creating a 2D Vizualization Plot for most Similar Characters to Juliet\n",
        "Using PCA score data from PC1 and PC2, create a 2 dimensional character visualization plot which shows what characters are similar to the `juliet` character.  Your plot should clearly label the characters closest to juliet but not contain so many labels that it is hard or impossible to interpret.  Filter the data as needed to make a nice visualization which is easy to read and interpret.  You can use pipe_pca_2 for this question."
      ]
    },
    {
      "cell_type": "code",
      "metadata": {
        "id": "AvaprjiA7fXN"
      },
      "source": [
        "#Here we call the exact same function called within our get_nearest_char function except we specify that the character is equal to 'juliet'\n",
        "question5_df = df.\\\n",
        "  where(df.character == 'juliet').\\\n",
        "  select(fn.col('pca_scores').alias('new_scores')).\\\n",
        "  join(df).\\\n",
        "  withColumn('dist', l2_dist_udf('pca_scores', 'new_scores')).\\\n",
        "  select(\"character\", \"kmeans_feat\", \"pca_scores\", \"dist\").\\\n",
        "  orderBy(fn.asc(\"dist\"))"
      ],
      "execution_count": null,
      "outputs": []
    },
    {
      "cell_type": "code",
      "metadata": {
        "id": "gXZObV_F56OK"
      },
      "source": [
        "from pyspark.sql.functions import col\n",
        "#following the previous step we subset the data frame to include only observations from the K-means cluster that includes juliet\n",
        "find_j = question5_df[question5_df['character']=='juliet'].select('kmeans_feat').collect()[0][0]\n",
        "q5_df = question5_df.filter(question5_df.kmeans_feat==find_j)"
      ],
      "execution_count": null,
      "outputs": []
    },
    {
      "cell_type": "code",
      "metadata": {
        "id": "g0SLNoAl6UYf",
        "colab": {
          "base_uri": "https://localhost:8080/"
        },
        "outputId": "d89a30b5-e62c-4706-e98e-09e1a97f110e"
      },
      "source": [
        "q5_df.show()"
      ],
      "execution_count": null,
      "outputs": [
        {
          "output_type": "stream",
          "text": [
            "+---------------+-----------+--------------------+---------+\n",
            "|      character|kmeans_feat|          pca_scores|     dist|\n",
            "+---------------+-----------+--------------------+---------+\n",
            "|         juliet|          0|[-97.592521527342...|      0.0|\n",
            "| friar laurence|          0|[-57.566282182737...|203.17017|\n",
            "|          nurse|          0|[-34.511751309667...|213.73653|\n",
            "|       benvolio|          0|[-8.6554823329056...|214.87091|\n",
            "|   lady capulet|          0|[-5.9868574827725...|235.13928|\n",
            "|       mercutio|          0|[-25.480437830915...|238.04196|\n",
            "|          romeo|          0|[-100.71169785565...|244.18126|\n",
            "|        capulet|          0|[-28.399048331149...|248.11644|\n",
            "|duchess of york|          0|[-38.013099248432...|250.41362|\n",
            "|      lady anne|          0|[-15.918091085982...| 253.8232|\n",
            "|          phebe|          0|[1.00343119524261...| 253.9869|\n",
            "|          paris|          0|[-9.9898433249039...| 254.8938|\n",
            "|    duke orsino|          0|[-21.303412787637...|255.58076|\n",
            "|     lady percy|          0|[-1.0656277082269...|255.62451|\n",
            "|         albany|          0|[-7.1597642599908...|256.00443|\n",
            "|      katharina|          0|[-16.213696732836...|256.07462|\n",
            "|      arviragus|          0|[-3.4450812981956...|256.30615|\n",
            "|       cordelia|          0|[-0.2588267233543...| 256.4225|\n",
            "|        ophelia|          0|[-4.9655136360176...|256.46823|\n",
            "|      brabantio|          0|[-4.7451927457504...|256.50238|\n",
            "+---------------+-----------+--------------------+---------+\n",
            "only showing top 20 rows\n",
            "\n"
          ],
          "name": "stdout"
        }
      ]
    },
    {
      "cell_type": "code",
      "metadata": {
        "id": "Yep-tnSn0_e6",
        "colab": {
          "base_uri": "https://localhost:8080/"
        },
        "outputId": "81f12b69-0fcf-46b8-98f0-3a4428245871"
      },
      "source": [
        "#from here we pull character names into a numpy array, and use pca_scores from our question 5 dataframe in order to \n",
        "#gain coordinates for what will be mapped in the plot below\n",
        "character_names = np.array(q5_df.select('character').rdd.map(lambda x: x['character']).collect())\n",
        "X = np.array(q5_df.select('pca_scores').rdd.map(lambda x: x['pca_scores']).collect())\n",
        "print(\"X.shape:\", X.shape)"
      ],
      "execution_count": null,
      "outputs": [
        {
          "output_type": "stream",
          "text": [
            "X.shape: (296, 500)\n"
          ],
          "name": "stdout"
        }
      ]
    },
    {
      "cell_type": "code",
      "metadata": {
        "id": "Hz-tQSy01d9L",
        "colab": {
          "base_uri": "https://localhost:8080/",
          "height": 651
        },
        "outputId": "e5046d52-76a2-4373-e691-1a17c5a2f296"
      },
      "source": [
        "# now plot the data that pertains to cluster 2, where juliet belongs. We only used 5 clusters in question 4, but these k values, were more or less, arbitrarily selected.\n",
        "# A small k value minimizes the run time for question 4 and is sufficient for ensuring that we can isolate the nearest characters that we are trying to identify\n",
        "fig, ax = plt.subplots()\n",
        "fig.set_figheight(10)\n",
        "fig.set_figwidth(20)\n",
        "#this for loop plots all of the other characters in blue\n",
        "for i in range(6,X.shape[0]):\n",
        "  ax.scatter(X[i,0], X[i,1], marker='d', c='blue',s=15)\n",
        "#these lines of code identify the nearest 4 characters to juliet and mark them red\n",
        "for i in range(6):\n",
        "  ax.scatter(X[i,0], X[i,1], marker='o', c='red',s=80)\n",
        "#titling our plot\n",
        "fig.suptitle(\"Character Names PC2 Scores vs. PC1 Scores as labeled by Juliets Five Nearest Characters\", y=.92)\n",
        "ax.set_xlabel(\"PC1\")\n",
        "ax.set_ylabel(\"PC2\")\n",
        "#annotating our plot using arrows\n",
        "for i, txt in zip(range(6),character_names):\n",
        "    ax.annotate(txt, xy = (X[i,0], X[i,1]),  xycoords='data',\n",
        "                xytext=((i)/5, 0.08), textcoords='axes fraction', color = 'red',\n",
        "                arrowprops=dict(facecolor='black', shrink=0.1),\n",
        "                horizontalalignment='left', verticalalignment='bottom',\n",
        "                )   \n",
        "display(plt.show())"
      ],
      "execution_count": null,
      "outputs": [
        {
          "output_type": "display_data",
          "data": {
            "image/png": "[encoded data removed]",
            "text/plain": [
              "<Figure size 1440x720 with 1 Axes>"
            ]
          },
          "metadata": {
            "tags": [],
            "needs_background": "light"
          }
        },
        {
          "output_type": "display_data",
          "data": {
            "text/plain": [
              "None"
            ]
          },
          "metadata": {
            "tags": []
          }
        }
      ]
    },
    {
      "cell_type": "markdown",
      "metadata": {
        "id": "M9VS5cEgWQIr"
      },
      "source": [
        "This biplot shows loading vectors for first two principal components.\n",
        "The left and bottom axes are showing principal component scores."
      ]
    },
    {
      "cell_type": "markdown",
      "metadata": {
        "id": "jCwbTodAmd8s"
      },
      "source": [
        "# Performing Inference Analysis on the most and least important words according to our PC1 Loading vector\n",
        "Perform an inference analysis on the 10 most and 10 least important words in the data set as defined by the absolute value of the PC1 loading vector coefficients.  Present the data by loading and printing 2 Pandas data frames containing the 10 most important words and 10 least important words named `most_imp_df` and `least_imp_df` respectively.  The data frames shall have 2 columns named `word` and `loading`.  Provide a written interpretation of the word importances.  You can use pipe_pca_2 for this question."
      ]
    },
    {
      "cell_type": "code",
      "metadata": {
        "id": "kHFjM6GZkTar",
        "colab": {
          "base_uri": "https://localhost:8080/",
          "height": 376
        },
        "outputId": "22ac189c-4bf4-4343-9950-ef4e4f298544"
      },
      "source": [
        "# your code here\n",
        "import pandas as pd\n",
        "pipe_pca_2.stages\n",
        "#obtaining the pc_loadings for pc1 and pc2 from our pipeline\n",
        "pca_data = pipe_pca_2.stages[-1]\n",
        "pc1 = pca_data.pc.toArray()[:, 0].tolist()\n",
        "pc2 = pca_data.pc.toArray()[:, 1].tolist()\n",
        "#pulling the vocabulary from our vectorized data\n",
        "vocabulary = pipe_pca_2.stages[2].vocabulary\n",
        "pc_loadings = pd.DataFrame([vocabulary, pc1, pc2]).T.rename(columns={0: 'word', \n",
        "                                                                          1: 'load_pc1',\n",
        "                                                                          2: 'load_pc2'})\n",
        "print(pc_loadings.shape)\n",
        "# smallest and biggest loadings of pc2\n",
        "pd.concat((pc_loadings.sort_values('load_pc2').head(), \n",
        "           pc_loadings.sort_values('load_pc2').tail()))"
      ],
      "execution_count": null,
      "outputs": [
        {
          "output_type": "stream",
          "text": [
            "(7420, 3)\n"
          ],
          "name": "stdout"
        },
        {
          "output_type": "execute_result",
          "data": {
            "text/html": [
              "<div>\n",
              "<style scoped>\n",
              "    .dataframe tbody tr th:only-of-type {\n",
              "        vertical-align: middle;\n",
              "    }\n",
              "\n",
              "    .dataframe tbody tr th {\n",
              "        vertical-align: top;\n",
              "    }\n",
              "\n",
              "    .dataframe thead th {\n",
              "        text-align: right;\n",
              "    }\n",
              "</style>\n",
              "<table border=\"1\" class=\"dataframe\">\n",
              "  <thead>\n",
              "    <tr style=\"text-align: right;\">\n",
              "      <th></th>\n",
              "      <th>word</th>\n",
              "      <th>load_pc1</th>\n",
              "      <th>load_pc2</th>\n",
              "    </tr>\n",
              "  </thead>\n",
              "  <tbody>\n",
              "    <tr>\n",
              "      <th>337</th>\n",
              "      <td>edward</td>\n",
              "      <td>-0.0569548</td>\n",
              "      <td>-0.142281</td>\n",
              "    </tr>\n",
              "    <tr>\n",
              "      <th>2</th>\n",
              "      <td>d</td>\n",
              "      <td>-0.145836</td>\n",
              "      <td>-0.140443</td>\n",
              "    </tr>\n",
              "    <tr>\n",
              "      <th>230</th>\n",
              "      <td>henry</td>\n",
              "      <td>-0.0570768</td>\n",
              "      <td>-0.132887</td>\n",
              "    </tr>\n",
              "    <tr>\n",
              "      <th>255</th>\n",
              "      <td>york</td>\n",
              "      <td>-0.0462479</td>\n",
              "      <td>-0.12209</td>\n",
              "    </tr>\n",
              "    <tr>\n",
              "      <th>680</th>\n",
              "      <td>clarence</td>\n",
              "      <td>-0.0520519</td>\n",
              "      <td>-0.115429</td>\n",
              "    </tr>\n",
              "    <tr>\n",
              "      <th>981</th>\n",
              "      <td>bardolph</td>\n",
              "      <td>-0.0348145</td>\n",
              "      <td>0.146629</td>\n",
              "    </tr>\n",
              "    <tr>\n",
              "      <th>673</th>\n",
              "      <td>chief</td>\n",
              "      <td>-0.0536171</td>\n",
              "      <td>0.169805</td>\n",
              "    </tr>\n",
              "    <tr>\n",
              "      <th>650</th>\n",
              "      <td>shallow</td>\n",
              "      <td>-0.043524</td>\n",
              "      <td>0.17051</td>\n",
              "    </tr>\n",
              "    <tr>\n",
              "      <th>40</th>\n",
              "      <td>master</td>\n",
              "      <td>-0.0708447</td>\n",
              "      <td>0.228336</td>\n",
              "    </tr>\n",
              "    <tr>\n",
              "      <th>801</th>\n",
              "      <td>ford</td>\n",
              "      <td>-0.0495372</td>\n",
              "      <td>0.228587</td>\n",
              "    </tr>\n",
              "  </tbody>\n",
              "</table>\n",
              "</div>"
            ],
            "text/plain": [
              "         word   load_pc1  load_pc2\n",
              "337    edward -0.0569548 -0.142281\n",
              "2           d  -0.145836 -0.140443\n",
              "230     henry -0.0570768 -0.132887\n",
              "255      york -0.0462479  -0.12209\n",
              "680  clarence -0.0520519 -0.115429\n",
              "981  bardolph -0.0348145  0.146629\n",
              "673     chief -0.0536171  0.169805\n",
              "650   shallow  -0.043524   0.17051\n",
              "40     master -0.0708447  0.228336\n",
              "801      ford -0.0495372  0.228587"
            ]
          },
          "metadata": {
            "tags": []
          },
          "execution_count": 26
        }
      ]
    },
    {
      "cell_type": "code",
      "metadata": {
        "id": "j_Z7qnL14UNp",
        "colab": {
          "base_uri": "https://localhost:8080/",
          "height": 419
        },
        "outputId": "856d3813-78ad-4312-9510-8713b3325e94"
      },
      "source": [
        "pc_loadings"
      ],
      "execution_count": null,
      "outputs": [
        {
          "output_type": "execute_result",
          "data": {
            "text/html": [
              "<div>\n",
              "<style scoped>\n",
              "    .dataframe tbody tr th:only-of-type {\n",
              "        vertical-align: middle;\n",
              "    }\n",
              "\n",
              "    .dataframe tbody tr th {\n",
              "        vertical-align: top;\n",
              "    }\n",
              "\n",
              "    .dataframe thead th {\n",
              "        text-align: right;\n",
              "    }\n",
              "</style>\n",
              "<table border=\"1\" class=\"dataframe\">\n",
              "  <thead>\n",
              "    <tr style=\"text-align: right;\">\n",
              "      <th></th>\n",
              "      <th>word</th>\n",
              "      <th>load_pc1</th>\n",
              "      <th>load_pc2</th>\n",
              "    </tr>\n",
              "  </thead>\n",
              "  <tbody>\n",
              "    <tr>\n",
              "      <th>0</th>\n",
              "      <td>s</td>\n",
              "      <td>-0.146348</td>\n",
              "      <td>0.0164322</td>\n",
              "    </tr>\n",
              "    <tr>\n",
              "      <th>1</th>\n",
              "      <td>thou</td>\n",
              "      <td>-0.261477</td>\n",
              "      <td>0.0337716</td>\n",
              "    </tr>\n",
              "    <tr>\n",
              "      <th>2</th>\n",
              "      <td>d</td>\n",
              "      <td>-0.145836</td>\n",
              "      <td>-0.140443</td>\n",
              "    </tr>\n",
              "    <tr>\n",
              "      <th>3</th>\n",
              "      <td>thy</td>\n",
              "      <td>-0.177647</td>\n",
              "      <td>-0.0682736</td>\n",
              "    </tr>\n",
              "    <tr>\n",
              "      <th>4</th>\n",
              "      <td>shall</td>\n",
              "      <td>-0.1079</td>\n",
              "      <td>0.00298656</td>\n",
              "    </tr>\n",
              "    <tr>\n",
              "      <th>...</th>\n",
              "      <td>...</td>\n",
              "      <td>...</td>\n",
              "      <td>...</td>\n",
              "    </tr>\n",
              "    <tr>\n",
              "      <th>7415</th>\n",
              "      <td>loosed</td>\n",
              "      <td>-0.00130302</td>\n",
              "      <td>-0.00262239</td>\n",
              "    </tr>\n",
              "    <tr>\n",
              "      <th>7416</th>\n",
              "      <td>neapolitan</td>\n",
              "      <td>-0.00163413</td>\n",
              "      <td>-0.00186936</td>\n",
              "    </tr>\n",
              "    <tr>\n",
              "      <th>7417</th>\n",
              "      <td>virtuously</td>\n",
              "      <td>-0.0025955</td>\n",
              "      <td>0.00825117</td>\n",
              "    </tr>\n",
              "    <tr>\n",
              "      <th>7418</th>\n",
              "      <td>flax</td>\n",
              "      <td>-0.000713996</td>\n",
              "      <td>0.00151487</td>\n",
              "    </tr>\n",
              "    <tr>\n",
              "      <th>7419</th>\n",
              "      <td>nods</td>\n",
              "      <td>-0.00181951</td>\n",
              "      <td>-0.00338352</td>\n",
              "    </tr>\n",
              "  </tbody>\n",
              "</table>\n",
              "<p>7420 rows × 3 columns</p>\n",
              "</div>"
            ],
            "text/plain": [
              "            word     load_pc1    load_pc2\n",
              "0              s    -0.146348   0.0164322\n",
              "1           thou    -0.261477   0.0337716\n",
              "2              d    -0.145836   -0.140443\n",
              "3            thy    -0.177647  -0.0682736\n",
              "4          shall      -0.1079  0.00298656\n",
              "...          ...          ...         ...\n",
              "7415      loosed  -0.00130302 -0.00262239\n",
              "7416  neapolitan  -0.00163413 -0.00186936\n",
              "7417  virtuously   -0.0025955  0.00825117\n",
              "7418        flax -0.000713996  0.00151487\n",
              "7419        nods  -0.00181951 -0.00338352\n",
              "\n",
              "[7420 rows x 3 columns]"
            ]
          },
          "metadata": {
            "tags": []
          },
          "execution_count": 27
        }
      ]
    },
    {
      "cell_type": "code",
      "metadata": {
        "id": "UFmSgU_QoXin"
      },
      "source": [
        "# your code here\n",
        "from  pyspark.sql.functions import abs\n",
        "pc_loadings['load_pc1'] = pc_loadings['load_pc1'].abs()\n",
        "#showing our least and most important words derived from our pc_1 loading vectors\n",
        "least_imp_df = pc_loadings.sort_values('load_pc1').head(10)\n",
        "most_imp_df = pc_loadings.sort_values('load_pc1').tail(10)\n",
        "#renaming our columns and dropping our second principle component\n",
        "most_imp_df.rename(columns = {'load_pc1':'loading'}, inplace = True)\n",
        "least_imp_df.rename(columns = {'load_pc1':'loading'}, inplace = True)\n",
        "most_imp_df.drop(['load_pc2'], axis=1, inplace=True)\n",
        "least_imp_df.drop(['load_pc2'], axis=1, inplace=True)"
      ],
      "execution_count": null,
      "outputs": []
    },
    {
      "cell_type": "code",
      "metadata": {
        "id": "4KD45JN-oYjH",
        "colab": {
          "base_uri": "https://localhost:8080/",
          "height": 701
        },
        "outputId": "40d24eb8-b930-4ff6-813c-1e9545a8fe25"
      },
      "source": [
        "# grading cell - do not modify\n",
        "display(most_imp_df)\n",
        "display(least_imp_df)"
      ],
      "execution_count": null,
      "outputs": [
        {
          "output_type": "display_data",
          "data": {
            "text/html": [
              "<div>\n",
              "<style scoped>\n",
              "    .dataframe tbody tr th:only-of-type {\n",
              "        vertical-align: middle;\n",
              "    }\n",
              "\n",
              "    .dataframe tbody tr th {\n",
              "        vertical-align: top;\n",
              "    }\n",
              "\n",
              "    .dataframe thead th {\n",
              "        text-align: right;\n",
              "    }\n",
              "</style>\n",
              "<table border=\"1\" class=\"dataframe\">\n",
              "  <thead>\n",
              "    <tr style=\"text-align: right;\">\n",
              "      <th></th>\n",
              "      <th>word</th>\n",
              "      <th>loading</th>\n",
              "    </tr>\n",
              "  </thead>\n",
              "  <tbody>\n",
              "    <tr>\n",
              "      <th>11</th>\n",
              "      <td>ll</td>\n",
              "      <td>0.103529</td>\n",
              "    </tr>\n",
              "    <tr>\n",
              "      <th>21</th>\n",
              "      <td>king</td>\n",
              "      <td>0.107898</td>\n",
              "    </tr>\n",
              "    <tr>\n",
              "      <th>4</th>\n",
              "      <td>shall</td>\n",
              "      <td>0.1079</td>\n",
              "    </tr>\n",
              "    <tr>\n",
              "      <th>6</th>\n",
              "      <td>o</td>\n",
              "      <td>0.110499</td>\n",
              "    </tr>\n",
              "    <tr>\n",
              "      <th>13</th>\n",
              "      <td>love</td>\n",
              "      <td>0.111923</td>\n",
              "    </tr>\n",
              "    <tr>\n",
              "      <th>2</th>\n",
              "      <td>d</td>\n",
              "      <td>0.145836</td>\n",
              "    </tr>\n",
              "    <tr>\n",
              "      <th>0</th>\n",
              "      <td>s</td>\n",
              "      <td>0.146348</td>\n",
              "    </tr>\n",
              "    <tr>\n",
              "      <th>5</th>\n",
              "      <td>thee</td>\n",
              "      <td>0.161189</td>\n",
              "    </tr>\n",
              "    <tr>\n",
              "      <th>3</th>\n",
              "      <td>thy</td>\n",
              "      <td>0.177647</td>\n",
              "    </tr>\n",
              "    <tr>\n",
              "      <th>1</th>\n",
              "      <td>thou</td>\n",
              "      <td>0.261477</td>\n",
              "    </tr>\n",
              "  </tbody>\n",
              "</table>\n",
              "</div>"
            ],
            "text/plain": [
              "     word   loading\n",
              "11     ll  0.103529\n",
              "21   king  0.107898\n",
              "4   shall    0.1079\n",
              "6       o  0.110499\n",
              "13   love  0.111923\n",
              "2       d  0.145836\n",
              "0       s  0.146348\n",
              "5    thee  0.161189\n",
              "3     thy  0.177647\n",
              "1    thou  0.261477"
            ]
          },
          "metadata": {
            "tags": []
          }
        },
        {
          "output_type": "display_data",
          "data": {
            "text/html": [
              "<div>\n",
              "<style scoped>\n",
              "    .dataframe tbody tr th:only-of-type {\n",
              "        vertical-align: middle;\n",
              "    }\n",
              "\n",
              "    .dataframe tbody tr th {\n",
              "        vertical-align: top;\n",
              "    }\n",
              "\n",
              "    .dataframe thead th {\n",
              "        text-align: right;\n",
              "    }\n",
              "</style>\n",
              "<table border=\"1\" class=\"dataframe\">\n",
              "  <thead>\n",
              "    <tr style=\"text-align: right;\">\n",
              "      <th></th>\n",
              "      <th>word</th>\n",
              "      <th>loading</th>\n",
              "    </tr>\n",
              "  </thead>\n",
              "  <tbody>\n",
              "    <tr>\n",
              "      <th>5757</th>\n",
              "      <td>carthage</td>\n",
              "      <td>1.13729e-06</td>\n",
              "    </tr>\n",
              "    <tr>\n",
              "      <th>7010</th>\n",
              "      <td>musters</td>\n",
              "      <td>2.43313e-06</td>\n",
              "    </tr>\n",
              "    <tr>\n",
              "      <th>6175</th>\n",
              "      <td>doubled</td>\n",
              "      <td>4.05251e-06</td>\n",
              "    </tr>\n",
              "    <tr>\n",
              "      <th>7003</th>\n",
              "      <td>oats</td>\n",
              "      <td>9.65708e-06</td>\n",
              "    </tr>\n",
              "    <tr>\n",
              "      <th>5426</th>\n",
              "      <td>leonine</td>\n",
              "      <td>3.24054e-05</td>\n",
              "    </tr>\n",
              "    <tr>\n",
              "      <th>5181</th>\n",
              "      <td>cauldron</td>\n",
              "      <td>3.99136e-05</td>\n",
              "    </tr>\n",
              "    <tr>\n",
              "      <th>6784</th>\n",
              "      <td>montagues</td>\n",
              "      <td>4.47745e-05</td>\n",
              "    </tr>\n",
              "    <tr>\n",
              "      <th>7248</th>\n",
              "      <td>darken</td>\n",
              "      <td>6.66397e-05</td>\n",
              "    </tr>\n",
              "    <tr>\n",
              "      <th>5913</th>\n",
              "      <td>epidamnum</td>\n",
              "      <td>7.60361e-05</td>\n",
              "    </tr>\n",
              "    <tr>\n",
              "      <th>7119</th>\n",
              "      <td>cape</td>\n",
              "      <td>8.8974e-05</td>\n",
              "    </tr>\n",
              "  </tbody>\n",
              "</table>\n",
              "</div>"
            ],
            "text/plain": [
              "           word      loading\n",
              "5757   carthage  1.13729e-06\n",
              "7010    musters  2.43313e-06\n",
              "6175    doubled  4.05251e-06\n",
              "7003       oats  9.65708e-06\n",
              "5426    leonine  3.24054e-05\n",
              "5181   cauldron  3.99136e-05\n",
              "6784  montagues  4.47745e-05\n",
              "7248     darken  6.66397e-05\n",
              "5913  epidamnum  7.60361e-05\n",
              "7119       cape   8.8974e-05"
            ]
          },
          "metadata": {
            "tags": []
          }
        }
      ]
    },
    {
      "cell_type": "markdown",
      "metadata": {
        "id": "Vv4QdBLHoazI"
      },
      "source": [
        "Your explanation here:\n",
        "Loadings describe how much each variable contributes to a particular pc1. Large loading values indicate that a variable has a strong relationship to our Principle Components, while the sign indicates whether it's positively or negatively correlated. Given that we were instructed to take the absolute value of these words, we won't focus on (+ or -) correlations but rather we've simply taken their strengths into account. The above words indicate to me that more rigorous cleaning could've taken place to remove words in our 'most_imp_df' that simply don't carry a lot of meaning. For instance, elizabethan word's that have apostropohes seemed to have been tokenized for what comes after the punctuation. It's clear that 'o' or 's' or 'd' shouldn't be in the running for the strongest pc correlation. The least important words were more appropriate, given that they refer to carthage (a place) the montague family, oats and other words. The most important word in our dataframe is II which refers to which generation a name was given. This indicates that there is always room for improvement in cleaning the textual data before performing PCA and kmeans clustering. "
      ]
    },
    {
      "cell_type": "markdown",
      "metadata": {
        "id": "GIN60eWvK7N2"
      },
      "source": [
        "# Part 2: K-Means Clustering"
      ]
    },
    {
      "cell_type": "markdown",
      "metadata": {
        "id": "PHajMTKtGrI8"
      },
      "source": [
        "# Obtaining Silhouette Scores for finding the Optimal Number of Clusters, K\n",
        "Use the `chars_pca_df` from question 2 above and compute K-Means silhouette scores for K = 2 through 6 on the PCA score data. You are free to create a new dataframe to reorganize the PCA data or regenerate the data in chars_pca_df if you wish.   Train your model on each K 3 times to find the lowest silhouette score.  The silhouette score is a measure of within cluster variation.  Remember that because K-Means starts out with random cluster assignments, it is not guaranteed to find a global minima so you should make multiple runs to find the highest score.  Plot the silhouette scores vs. K and report the highest silhouette score from the plot. If the process of finding the lowest silhouette scores is taking too much time, reduce the number of PCA score columns such that you capture a reasonable amount of variance but complete training in a more reasonable amount of time.  The work you did in question 3 above could be useful here."
      ]
    },
    {
      "cell_type": "code",
      "metadata": {
        "id": "Sh4v6Is0DZ42"
      },
      "source": [
        "#importing our cross validator and param grid builder\n",
        "from pyspark.ml.tuning import CrossValidator, ParamGridBuilder"
      ],
      "execution_count": null,
      "outputs": []
    },
    {
      "cell_type": "markdown",
      "metadata": {
        "id": "Bum3aJb6ryIN"
      },
      "source": [
        "###Silhoutte Scoring: \n",
        "######The Silhouette technique measures separability between clusters by measuring the average distance between each point and all other points within the cluster. This is known as intra-class variance essentially, and this method is utilized by kmeans in order to minimize that value, making for very coherent clusters. Following the average distance distance measurements between each point, another measurement compares the distance between those points and each point in other clusters. By subtracting the two average measures and dividing by whichever value is larger, we can obtain a silhouette score for that value. We want to find a silhouette score that is closest to 1 for choosing an optimal K, because a high score would indicate that there is a small intra-cluster distance on average (high cluster coherency) as well as large inter-cluster distances on average (good separation)"
      ]
    },
    {
      "cell_type": "code",
      "metadata": {
        "id": "x9s1bB3YMRgN",
        "colab": {
          "base_uri": "https://localhost:8080/"
        },
        "outputId": "a2d89f18-29df-473e-b16a-5bb62dcc15c8"
      },
      "source": [
        "# your code here\n",
        "from pyspark.ml.evaluation import ClusteringEvaluator as ev\n",
        "#first we rename tfidf to features and create empty lists to store our silhouette scores and corresponding k values\n",
        "q7 = chars_pca_df.withColumnRenamed('tfidf','features')\n",
        "sil_list = []\n",
        "k = []\n",
        "#the cross validation section was removed as it would run succesfully about 50% of the time. \n",
        "#The scores without cross validation are commensurate to the scores while using it which is why I\n",
        "#have sufficient reason to believe that these scores were not the result of a local minima, rather a global minima.\n",
        "#initializing any empty parameter grid. \n",
        "#There isn't too many hyperparameters we can tune from a kmeans algorithm, \n",
        "#and most of the computing power will be taken from testing different k values (3,7) \n",
        "#and cross validating our results to ensure that we're not stuck within a local minima.\n",
        "#paramgrid =ParamGridBuilder().build()\n",
        "#for loop to test different k values within our data. This is a 3 fold cross validation\n",
        "for i in range(2,7):\n",
        "  kmeans = clustering.KMeans().setK(i).setSeed(1)\n",
        "  #kmeans = clustering.KMeans(k=i, featuresCol='features').setSeed(42)\n",
        "  # crossval= CrossValidator(estimator=kmeans,  \n",
        "  #                        estimatorParamMaps=paramgrid,\n",
        "  #                        evaluator = ev(), \n",
        "  #                        numFolds=3)\n",
        "  #fitting our crossval code to our model on our question 7 data frame\n",
        "  model = kmeans.fit(q7)\n",
        "  #transforming our data frame using our model to generate predictions\n",
        "  predictions = model.transform(q7)\n",
        "  #evaluator = ev()\n",
        "  #evaluating our predictions and appending our values to our empty lists for k and silhouette scores\n",
        "  silhouette = ev().evaluate(predictions)\n",
        "  print(\"Silhouette with squared euclidean distance = \" + str(silhouette))\n",
        "  sil_list.append(silhouette)\n",
        "  k.append(i)"
      ],
      "execution_count": null,
      "outputs": [
        {
          "output_type": "stream",
          "text": [
            "Silhouette with squared euclidean distance = 0.8339005718979999\n",
            "Silhouette with squared euclidean distance = 0.8272686173999495\n",
            "Silhouette with squared euclidean distance = 0.7974702441303817\n",
            "Silhouette with squared euclidean distance = 0.6250415714092977\n",
            "Silhouette with squared euclidean distance = 0.7155639811239567\n"
          ],
          "name": "stdout"
        }
      ]
    },
    {
      "cell_type": "code",
      "metadata": {
        "id": "mo7dItMmCaFh"
      },
      "source": [
        "#placing our scores and k values into a dataframe to plot\n",
        "sil_df = pd.DataFrame(\n",
        "    {'K': k,\n",
        "     'Silhouette Score': sil_list})"
      ],
      "execution_count": null,
      "outputs": []
    },
    {
      "cell_type": "code",
      "metadata": {
        "id": "3BVHb9wgArTl",
        "colab": {
          "base_uri": "https://localhost:8080/",
          "height": 295
        },
        "outputId": "e2746b27-2008-43c6-a133-946037ec2efb"
      },
      "source": [
        "# Draw a line chart of sillhouette scores vs. K\n",
        "import matplotlib.pyplot as plt\n",
        "sil_df.plot.line(x = 'K',y='Silhouette Score', title=\"Silhouette scores for different number of k clusters\");\n",
        "plt.ylabel('Euclidian distance')\n",
        "plt.show(block=True)"
      ],
      "execution_count": null,
      "outputs": [
        {
          "output_type": "display_data",
          "data": {
            "image/png": "[encoded data removed]",
            "text/plain": [
              "<Figure size 432x288 with 1 Axes>"
            ]
          },
          "metadata": {
            "tags": [],
            "needs_background": "light"
          }
        }
      ]
    },
    {
      "cell_type": "markdown",
      "metadata": {
        "id": "peXo1K9rMXDJ"
      },
      "source": [
        "# Putting it all together: KMeans Clustering Visualization in Conjunction with PCA\n",
        "Perform K-Means clustering using the `chars_pca_df` and plot the results using a scatter plot.  Color the points by cluster assignment.  You are allowed to create a new dataframe from chars_pca_df or regenerate the data if you wish.  The work you did in question 7 above can be applied directly to this problem.  The goal of this question is to try to find an interesting insight about the Shakespeare characters.  For example, perhaps you spot one or more outlier characters that stands apart from the rest of the characters in the cluster.  An example of this is how IST-718 and IST-719 stand out from the rest of the cluster in the unsupervised learning notebook presented in class (though that plot did not use K-Means clustering, it only used PCA).  Note that in the previous example, I am only providing an example of 1 type of interesting insight.  When you find something interesting, add labels to the points of interest so that the reader of your plot can understand the insight.  Provide an explanation of your insight.  This question is completely open ended and you are free to generate the clusters any way you see fit as long as you use K-Means and your methodology follows good data science practices.  You can plot the observation data in 2 dimensions by using PC1 and PC2 as the X and Y coordinates.  Your plot should be easy to read and not overly cluttered.  This question will be graded on your level of effort in comparison to what insights other students in the class find."
      ]
    },
    {
      "cell_type": "code",
      "metadata": {
        "id": "vs1j6Ac2Y2or"
      },
      "source": [
        "# your code here\n",
        "#firstly we run almost identical code to that ran in question 7 except we specify the number of clusters that provided the highest sillhouete score\n",
        "#this value turned out to be 2 from our plot above\n",
        "from pyspark.ml.evaluation import ClusteringEvaluator as ev\n",
        "q8 = chars_pca_df.withColumnRenamed('tfidf','features')\n",
        "#initializing an empty param grid\n",
        "paramgrid =ParamGridBuilder().build()\n",
        "#specifying the parameters\n",
        "kmeans = clustering.KMeans().setK(2)\n",
        "#fitting our kmeans model to the question 8 dataframe\n",
        "model = kmeans.fit(q8)\n",
        "#storing our predictions in a dataframe for a plot\n",
        "predictions = model.transform(q8)"
      ],
      "execution_count": null,
      "outputs": []
    },
    {
      "cell_type": "code",
      "metadata": {
        "id": "coOdkanxE-I9"
      },
      "source": [
        "first_k = predictions.filter(predictions.prediction==0)\n",
        "second_k = predictions.filter(predictions.prediction==1)\n",
        "#third_k = predictions.filter(predictions.prediction==2)\n",
        "#four_k = predictions.filter(predictions.prediction==3)\n",
        "\n",
        "X0 = np.array(first_k.select('scores').rdd.map(lambda x: x['scores']).collect())\n",
        "X1 = np.array(second_k.select('scores').rdd.map(lambda x: x['scores']).collect())\n",
        "#X2 = np.array(third_k.select('scores').rdd.map(lambda x: x['scores']).collect())\n",
        "#X3 = np.array(four_k.select('scores').rdd.map(lambda x: x['scores']).collect())"
      ],
      "execution_count": null,
      "outputs": []
    },
    {
      "cell_type": "code",
      "metadata": {
        "id": "HorKiP5XFkgB",
        "colab": {
          "base_uri": "https://localhost:8080/",
          "height": 651
        },
        "outputId": "c92551f7-dd35-44cc-cd77-c6e47d34f518"
      },
      "source": [
        "# now plot the data\n",
        "fig, ax = plt.subplots()\n",
        "fig.set_figheight(10)\n",
        "fig.set_figwidth(20)\n",
        "\n",
        "ax.scatter(X0[:,0], X0[:,1], marker='o', c='red',s=15)\n",
        "ax.scatter(X1[:,0], X1[:,1], marker='d', c='blue',s=15)\n",
        "#ax.scatter(X2[:,0], X2[:,1], marker='>', c='green',s=15)\n",
        "#ax.scatter(X3[:,0], X3[:,1], marker='>', c='green',s=15)\n",
        "\n",
        "fig.suptitle(\"PC1 and PC2 scores for the optimal number of clusters where K = 2\", y=.92)\n",
        "ax.set_xlabel(\"PC1\")\n",
        "ax.set_ylabel(\"PC2\")\n",
        "display(plt.show())"
      ],
      "execution_count": null,
      "outputs": [
        {
          "output_type": "display_data",
          "data": {
            "image/png": "[encoded data removed]",
            "text/plain": [
              "<Figure size 1440x720 with 1 Axes>"
            ]
          },
          "metadata": {
            "tags": [],
            "needs_background": "light"
          }
        },
        {
          "output_type": "display_data",
          "data": {
            "text/plain": [
              "None"
            ]
          },
          "metadata": {
            "tags": []
          }
        }
      ]
    },
    {
      "cell_type": "markdown",
      "metadata": {
        "id": "MqY3QMORPxFV"
      },
      "source": [
        "Your insight explanation here:\n",
        "There are some interesting outliers that are worth discussing in this situation. The first cluster is much more spread out along the x-axis (pc1: -360 to -50) y axis (pc2) than the second cluster. This variance in cluster 1 accounts for all of the outliers that we can identify. The second cluster is much more coherent and uniform along the pc1 axis. It also clusters very nicely around 0 for pc2. Gloucester and falstaff are characters that account for outlier in the cluster where k = 1, as ther are over 150 units away from the nearest character on pc1 (which evidently turns out to be hamlet). "
      ]
    }
  ]
}